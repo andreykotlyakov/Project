{
 "cells": [
  {
   "cell_type": "code",
   "execution_count": 1,
   "metadata": {},
   "outputs": [
    {
     "name": "stdout",
     "output_type": "stream",
     "text": [
      "Train shape: (16000, 2)\n",
      "Test shape: (2000, 2)\n",
      "Validation shape: (2000, 2)\n",
      "                                                text  label\n",
      "0                            i didnt feel humiliated      0\n",
      "1  i can go from feeling so hopeless to so damned...      0\n",
      "2   im grabbing a minute to post i feel greedy wrong      3\n",
      "3  i am ever feeling nostalgic about the fireplac...      2\n",
      "4                               i am feeling grouchy      3\n"
     ]
    }
   ],
   "source": [
    "import pandas as pd\n",
    "\n",
    "# Загрузка данных\n",
    "train_df = pd.read_csv('training.csv')\n",
    "test_df = pd.read_csv('test.csv')\n",
    "val_df = pd.read_csv('validation.csv')\n",
    "\n",
    "# Информация о данных\n",
    "print(\"Train shape:\", train_df.shape)\n",
    "print(\"Test shape:\", test_df.shape)\n",
    "print(\"Validation shape:\", val_df.shape)\n",
    "\n",
    "# Вывод первых строк\n",
    "print(train_df.head())"
   ]
  },
  {
   "cell_type": "code",
   "execution_count": 2,
   "metadata": {},
   "outputs": [
    {
     "name": "stdout",
     "output_type": "stream",
     "text": [
      "Пропуски в тренировочном наборе:\n",
      "text     0\n",
      "label    0\n",
      "dtype: int64\n",
      "Распределение классов в тренировочном наборе:\n",
      "label\n",
      "1    5362\n",
      "0    4666\n",
      "3    2159\n",
      "4    1937\n",
      "2    1304\n",
      "5     572\n",
      "Name: count, dtype: int64\n"
     ]
    },
    {
     "data": {
      "image/png": "[encoded data removed]",
      "text/plain": [
       "<Figure size 640x480 with 1 Axes>"
      ]
     },
     "metadata": {},
     "output_type": "display_data"
    }
   ],
   "source": [
    "# Проверка пропусков\n",
    "print(\"Пропуски в тренировочном наборе:\")\n",
    "print(train_df.isnull().sum())\n",
    "\n",
    "# Распределение классов\n",
    "print(\"Распределение классов в тренировочном наборе:\")\n",
    "print(train_df['label'].value_counts())\n",
    "\n",
    "# Визуализация распределения классов\n",
    "import seaborn as sns\n",
    "import matplotlib.pyplot as plt\n",
    "\n",
    "sns.countplot(x='label', data=train_df)\n",
    "plt.title(\"Распределение эмоций\")\n",
    "plt.show()"
   ]
  },
  {
   "cell_type": "code",
   "execution_count": 3,
   "metadata": {},
   "outputs": [],
   "source": [
    "import re\n",
    "from sklearn.feature_extraction.text import TfidfVectorizer\n",
    "from sklearn.model_selection import train_test_split\n",
    "from sklearn.preprocessing import LabelEncoder\n",
    "\n",
    "# Текстовая предобработка\n",
    "def preprocess_text(text):\n",
    "    text = re.sub(r'http\\S+', '', text)  # Удаление ссылок\n",
    "    text = re.sub(r'[^a-zA-Z]', ' ', text)  # Удаление цифр и символов\n",
    "    text = text.lower()  # Приведение к нижнему регистру\n",
    "    return text\n",
    "\n",
    "# Применение предобработки\n",
    "train_df['text'] = train_df['text'].apply(preprocess_text)\n",
    "test_df['text'] = test_df['text'].apply(preprocess_text)\n",
    "\n",
    "# TF-IDF векторы\n",
    "vectorizer = TfidfVectorizer(max_features=5000)\n",
    "X = vectorizer.fit_transform(train_df['text']).toarray()\n",
    "\n",
    "# Кодирование меток\n",
    "le = LabelEncoder()\n",
    "y = le.fit_transform(train_df['label'])\n",
    "\n",
    "# Разделение данных\n",
    "X_train, X_valid, y_train, y_valid = train_test_split(X, y, test_size=0.2, random_state=42)"
   ]
  },
  {
   "cell_type": "code",
   "execution_count": 4,
   "metadata": {},
   "outputs": [
    {
     "name": "stdout",
     "output_type": "stream",
     "text": [
      "Accuracy: 0.8453125\n",
      "              precision    recall  f1-score   support\n",
      "\n",
      "           0       0.88      0.94      0.91       946\n",
      "           1       0.79      0.96      0.87      1021\n",
      "           2       0.88      0.57      0.69       296\n",
      "           3       0.90      0.78      0.84       427\n",
      "           4       0.85      0.71      0.77       397\n",
      "           5       0.88      0.43      0.58       113\n",
      "\n",
      "    accuracy                           0.85      3200\n",
      "   macro avg       0.86      0.73      0.78      3200\n",
      "weighted avg       0.85      0.85      0.84      3200\n",
      "\n"
     ]
    }
   ],
   "source": [
    "from sklearn.linear_model import LogisticRegression\n",
    "from sklearn.metrics import accuracy_score, classification_report\n",
    "\n",
    "# Обучение модели\n",
    "lr_model = LogisticRegression(max_iter=1000)\n",
    "lr_model.fit(X_train, y_train)\n",
    "\n",
    "# Оценка модели\n",
    "y_pred = lr_model.predict(X_valid)\n",
    "print(\"Accuracy:\", accuracy_score(y_valid, y_pred))\n",
    "print(classification_report(y_valid, y_pred))"
   ]
  },
  {
   "cell_type": "code",
   "execution_count": 5,
   "metadata": {},
   "outputs": [
    {
     "name": "stdout",
     "output_type": "stream",
     "text": [
      "Accuracy (SVM): 0.8790625\n",
      "              precision    recall  f1-score   support\n",
      "\n",
      "           0       0.92      0.93      0.92       946\n",
      "           1       0.86      0.94      0.90      1021\n",
      "           2       0.84      0.69      0.76       296\n",
      "           3       0.91      0.86      0.88       427\n",
      "           4       0.84      0.83      0.84       397\n",
      "           5       0.82      0.65      0.72       113\n",
      "\n",
      "    accuracy                           0.88      3200\n",
      "   macro avg       0.86      0.82      0.84      3200\n",
      "weighted avg       0.88      0.88      0.88      3200\n",
      "\n"
     ]
    }
   ],
   "source": [
    "from sklearn.svm import SVC\n",
    "\n",
    "# Обучение модели SVM\n",
    "svm_model = SVC(kernel='linear')\n",
    "svm_model.fit(X_train, y_train)\n",
    "\n",
    "# Оценка модели\n",
    "y_pred_svm = svm_model.predict(X_valid)\n",
    "print(\"Accuracy (SVM):\", accuracy_score(y_valid, y_pred_svm))\n",
    "print(classification_report(y_valid, y_pred_svm))"
   ]
  },
  {
   "cell_type": "code",
   "execution_count": 6,
   "metadata": {},
   "outputs": [
    {
     "name": "stdout",
     "output_type": "stream",
     "text": [
      "Epoch 1/5\n"
     ]
    },
    {
     "name": "stderr",
     "output_type": "stream",
     "text": [
      "/Library/Frameworks/Python.framework/Versions/3.12/lib/python3.12/site-packages/keras/src/layers/core/embedding.py:90: UserWarning: Argument `input_length` is deprecated. Just remove it.\n",
      "  warnings.warn(\n"
     ]
    },
    {
     "name": "stdout",
     "output_type": "stream",
     "text": [
      "\u001b[1m400/400\u001b[0m \u001b[32m━━━━━━━━━━━━━━━━━━━━\u001b[0m\u001b[37m\u001b[0m \u001b[1m14s\u001b[0m 34ms/step - accuracy: 0.4035 - loss: 1.4824 - val_accuracy: 0.8219 - val_loss: 0.5597\n",
      "Epoch 2/5\n",
      "\u001b[1m400/400\u001b[0m \u001b[32m━━━━━━━━━━━━━━━━━━━━\u001b[0m\u001b[37m\u001b[0m \u001b[1m14s\u001b[0m 35ms/step - accuracy: 0.8786 - loss: 0.3767 - val_accuracy: 0.9019 - val_loss: 0.2995\n",
      "Epoch 3/5\n",
      "\u001b[1m400/400\u001b[0m \u001b[32m━━━━━━━━━━━━━━━━━━━━\u001b[0m\u001b[37m\u001b[0m \u001b[1m12s\u001b[0m 30ms/step - accuracy: 0.9505 - loss: 0.1471 - val_accuracy: 0.9087 - val_loss: 0.2622\n",
      "Epoch 4/5\n",
      "\u001b[1m400/400\u001b[0m \u001b[32m━━━━━━━━━━━━━━━━━━━━\u001b[0m\u001b[37m\u001b[0m \u001b[1m12s\u001b[0m 30ms/step - accuracy: 0.9691 - loss: 0.0932 - val_accuracy: 0.9112 - val_loss: 0.2898\n",
      "Epoch 5/5\n",
      "\u001b[1m400/400\u001b[0m \u001b[32m━━━━━━━━━━━━━━━━━━━━\u001b[0m\u001b[37m\u001b[0m \u001b[1m12s\u001b[0m 30ms/step - accuracy: 0.9779 - loss: 0.0670 - val_accuracy: 0.9191 - val_loss: 0.2606\n"
     ]
    }
   ],
   "source": [
    "import tensorflow as tf\n",
    "from tensorflow.keras.models import Sequential\n",
    "from tensorflow.keras.layers import Embedding, LSTM, Dense\n",
    "\n",
    "# Подготовка данных для LSTM\n",
    "from tensorflow.keras.preprocessing.text import Tokenizer\n",
    "from tensorflow.keras.preprocessing.sequence import pad_sequences\n",
    "\n",
    "tokenizer = Tokenizer(num_words=5000)\n",
    "tokenizer.fit_on_texts(train_df['text'])\n",
    "\n",
    "X_train_seq = tokenizer.texts_to_sequences(train_df['text'])\n",
    "X_valid_seq = tokenizer.texts_to_sequences(test_df['text'])\n",
    "\n",
    "X_train_seq = pad_sequences(X_train_seq, maxlen=100)\n",
    "X_valid_seq = pad_sequences(X_valid_seq, maxlen=100)\n",
    "\n",
    "# Создание модели LSTM\n",
    "model = Sequential()\n",
    "model.add(Embedding(input_dim=5000, output_dim=128, input_length=100))\n",
    "model.add(LSTM(64))\n",
    "model.add(Dense(6, activation='softmax'))  # 6 классов эмоций\n",
    "\n",
    "model.compile(optimizer='adam', loss='sparse_categorical_crossentropy', metrics=['accuracy'])\n",
    "\n",
    "# Обучение модели\n",
    "history = model.fit(X_train_seq, y, epochs=5, batch_size=32, validation_split=0.2)"
   ]
  }
 ],
 "metadata": {
  "kernelspec": {
   "display_name": "Python 3",
   "language": "python",
   "name": "python3"
  },
  "language_info": {
   "codemirror_mode": {
    "name": "ipython",
    "version": 3
   },
   "file_extension": ".py",
   "mimetype": "text/x-python",
   "name": "python",
   "nbconvert_exporter": "python",
   "pygments_lexer": "ipython3",
   "version": "3.12.0"
  }
 },
 "nbformat": 4,
 "nbformat_minor": 2
}
